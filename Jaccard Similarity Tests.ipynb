{
 "cells": [
  {
   "cell_type": "code",
   "execution_count": 78,
   "id": "metropolitan-sheep",
   "metadata": {},
   "outputs": [],
   "source": [
    "from translation_utils import compute_new_answer_span\n",
    "from BackTranslation import BackTranslation"
   ]
  },
  {
   "cell_type": "code",
   "execution_count": 79,
   "id": "spiritual-customer",
   "metadata": {},
   "outputs": [],
   "source": [
    "trans = BackTranslation(url=[\n",
    "      'translate.google.com',\n",
    "      'translate.google.co.kr',\n",
    "    ])"
   ]
  },
  {
   "cell_type": "code",
   "execution_count": 70,
   "id": "presidential-prime",
   "metadata": {},
   "outputs": [
    {
     "name": "stdout",
     "output_type": "stream",
     "text": [
      "4\n",
      "['All', 'departments', 'in', 'the', 'College', 'of', 'Science', 'offer', 'PHD', 'programs', 'with', 'the', 'exception', 'of', 'the', 'Department', 'of', 'Preparatory', 'Studies.']\n",
      "['Department', 'of', 'Pre-Professional', 'Studies']\n",
      "0.5294117647058824\n",
      "(87, 'Department of Preparatory Studies.')\n"
     ]
    }
   ],
   "source": [
    "def test_1():\n",
    "    translated_context = (\"All departments in the College of Science \"\n",
    "    \"offer PHD programs with the exception of the Department of \"\n",
    "    \"Preparatory Studies.\")\n",
    "    orig_answer = \"Department of Pre-Professional Studies\"\n",
    "    \n",
    "    print(compute_new_answer_span(translated_context, orig_answer))\n",
    "    \n",
    "test_1()"
   ]
  },
  {
   "cell_type": "code",
   "execution_count": 71,
   "id": "automated-librarian",
   "metadata": {},
   "outputs": [
    {
     "name": "stdout",
     "output_type": "stream",
     "text": [
      "2\n",
      "['Franklin', 'won', 'the', 'title', 'of', '\"First', 'American\"', 'in', 'his', 'early', 'and', 'tireless', 'efforts', 'to', 'fight', 'for', 'the', 'unification', 'of', 'the', 'colonies,', 'and', 'initially', 'served', 'as', 'a', 'writer', 'and', 'spokesperson', 'for', 'multiple', 'colonies', 'in', 'London.']\n",
      "['\"The', 'First', 'American\"']\n",
      "0.75\n",
      "(26, '\"First American\"')\n"
     ]
    }
   ],
   "source": [
    "def test_2():\n",
    "    orig_context = ('Franklin earned the title of \"The First American\" '\n",
    "                    'for his early and indefatigable campaigning for colonial unity, '\n",
    "                    'initially as an author and spokesman in London for several colonies.')\n",
    "    translated_context = ('Franklin won the title of \"First American\" in his early and tireless '\n",
    "                          'efforts to fight for the unification of the colonies, and initially served '\n",
    "                          'as a writer and spokesperson for multiple colonies in London.') # Chinese\n",
    "    #orig_answer = \"for his early and indefatigable campaigning for colonial unity\"\n",
    "    orig_answer = '\"The First American\"'\n",
    "    \n",
    "    print(compute_new_answer_span(translated_context, orig_answer))\n",
    "    \n",
    "test_2()"
   ]
  },
  {
   "cell_type": "code",
   "execution_count": 72,
   "id": "retired-reception",
   "metadata": {},
   "outputs": [
    {
     "name": "stdout",
     "output_type": "stream",
     "text": [
      "3\n",
      "['Franklin', 'won', 'the', 'title', 'of', '\"First', 'American\"', 'in', 'his', 'early', 'and', 'tireless', 'efforts', 'to', 'fight', 'for', 'the', 'unification', 'of', 'the', 'colonies,', 'and', 'initially', 'served', 'as', 'a', 'writer', 'and', 'spokesperson', 'for', 'multiple', 'colonies', 'in', 'London.']\n",
      "['author', 'and', 'spokesman']\n",
      "0.4\n",
      "(-1, '')\n"
     ]
    }
   ],
   "source": [
    "def test_3():\n",
    "    orig_context = ('Franklin earned the title of \"The First American\" '\n",
    "                    'for his early and indefatigable campaigning for colonial unity, '\n",
    "                    'initially as an author and spokesman in London for several colonies.')\n",
    "    translated_context = ('Franklin won the title of \"First American\" in his early and tireless '\n",
    "                          'efforts to fight for the unification of the colonies, and initially served '\n",
    "                          'as a writer and spokesperson for multiple colonies in London.') # Chinese\n",
    "    orig_answer = 'author and spokesman'\n",
    "    \n",
    "    print(compute_new_answer_span(translated_context, orig_answer))\n",
    "    \n",
    "test_3()"
   ]
  },
  {
   "cell_type": "code",
   "execution_count": 73,
   "id": "electronic-wealth",
   "metadata": {},
   "outputs": [
    {
     "name": "stdout",
     "output_type": "stream",
     "text": [
      "11\n",
      "['The', 'online', 'survey', 'was', 'conducted', 'among', 'consumers', 'in', '16', 'countries', 'and', 'regions', 'before', 'the', 'opening', 'ceremony', 'of', 'the', 'Games', 'and', 'after', 'the', 'closing.']\n",
      "['before', \"Games'\", 'opening', 'ceremony', 'and', 'after', 'the', 'closing']\n",
      "0.9142857142857143\n",
      "(76, 'before the opening ceremony of the Games and after the closing.')\n"
     ]
    }
   ],
   "source": [
    "def test_4():\n",
    "    orig_context = (\"The online survey was conducted on consumers in \"\n",
    "                    \"16 countries and regions before Games' opening \"\n",
    "                    \"ceremony and after the closing.\")\n",
    "    translated_context = (\"The online survey was conducted among consumers \"\n",
    "                          \"in 16 countries and regions before the opening ceremony \"\n",
    "                          \"of the Games and after the closing.\") # French\n",
    "    orig_answer = \"before Games' opening ceremony and after the closing\"\n",
    "    \n",
    "    print(compute_new_answer_span(translated_context, orig_answer))\n",
    "    \n",
    "test_4()"
   ]
  },
  {
   "cell_type": "code",
   "execution_count": 75,
   "id": "accessible-freeware",
   "metadata": {},
   "outputs": [
    {
     "name": "stdout",
     "output_type": "stream",
     "text": [
      "4\n",
      "['He', 'was', 'the', 'father', 'of', 'jazz', 'style', 'and', 'one', 'of', 'the', 'most', 'famous', 'and', 'most', 'admired', 'people', 'in', 'the', 'world.']\n",
      "['father', 'of', 'the', 'jazz', 'style']\n",
      "1.0\n",
      "(11, 'father of jazz style')\n"
     ]
    }
   ],
   "source": [
    "def test_5():\n",
    "    orig_context = (\"He was the father of the jazz style and also \"\n",
    "                    \"one of the best-known and most-admired people in the world.\")\n",
    "    translated_context = (\"He was the father of jazz style and one \"\n",
    "                          \"of the most famous and most admired people in the world.\") # Japanese\n",
    "    orig_answer = \"father of the jazz style\"\n",
    "    \n",
    "    print(compute_new_answer_span(translated_context, orig_answer))\n",
    "    \n",
    "test_5()"
   ]
  },
  {
   "cell_type": "code",
   "execution_count": 76,
   "id": "editorial-portfolio",
   "metadata": {},
   "outputs": [
    {
     "name": "stdout",
     "output_type": "stream",
     "text": [
      "9\n",
      "['An', 'online', 'survey', 'was', 'conducted', 'on', 'consumers', 'in', '16', 'countries', 'and', 'territories', 'before', 'and', 'after', 'the', 'opening', 'ceremony', 'of', 'the', 'game.']\n",
      "['before', \"Games'\", 'opening', 'ceremony', 'and', 'after', 'the', 'closing']\n",
      "0.7714285714285715\n",
      "(76, 'before and after the opening ceremony of the game.')\n"
     ]
    }
   ],
   "source": [
    "def test_6():\n",
    "    orig_context = (\"The online survey was conducted on consumers in \"\n",
    "                    \"16 countries and regions before Games' opening \"\n",
    "                    \"ceremony and after the closing.\")\n",
    "    translated_context = (\"An online survey was conducted on consumers \"\n",
    "                          \"in 16 countries and territories before and after \"\n",
    "                          \"the opening ceremony of the game.\") # Japanese (harder than french)\n",
    "    orig_answer = \"before Games' opening ceremony and after the closing\"\n",
    "    \n",
    "    print(compute_new_answer_span(translated_context, orig_answer))\n",
    "    \n",
    "test_6()"
   ]
  },
  {
   "cell_type": "code",
   "execution_count": 77,
   "id": "comprehensive-helicopter",
   "metadata": {},
   "outputs": [
    {
     "name": "stdout",
     "output_type": "stream",
     "text": [
      "1\n",
      "['An', 'online', 'survey', 'was', 'conducted', 'on', 'consumers', 'in', '16', 'countries', 'and', 'territories', 'before', 'and', 'after', 'the', 'opening', 'ceremony', 'of', 'the', 'game.']\n",
      "['16']\n",
      "1.0\n",
      "(47, '16')\n"
     ]
    }
   ],
   "source": [
    "def test_7():\n",
    "    orig_context = (\"The online survey was conducted on consumers in \"\n",
    "                    \"16 countries and regions before Games' opening \"\n",
    "                    \"ceremony and after the closing.\")\n",
    "    translated_context = (\"An online survey was conducted on consumers \"\n",
    "                          \"in 16 countries and territories before and after \"\n",
    "                          \"the opening ceremony of the game.\") # Japanese (harder than french)\n",
    "    orig_answer = \"16\"\n",
    "    \n",
    "    print(compute_new_answer_span(translated_context, orig_answer))\n",
    "    \n",
    "test_7()"
   ]
  },
  {
   "cell_type": "code",
   "execution_count": 82,
   "id": "convinced-corporation",
   "metadata": {},
   "outputs": [
    {
     "name": "stdout",
     "output_type": "stream",
     "text": [
      "In terms of food choices, our health is our top priority.\n",
      "(26, 'our health')\n"
     ]
    }
   ],
   "source": [
    "def test_8():\n",
    "    orig_context = \"Our health is our priority when it comes to the choice of our foods.\"\n",
    "    translated_context = trans.translate(orig_context, src='en', tmp = 'zh-cn').result_text\n",
    "    print(translated_context)\n",
    "    orig_answer = \"Our health\"\n",
    "    \n",
    "    print(compute_new_answer_span(translated_context, orig_answer))\n",
    "    \n",
    "test_8()"
   ]
  },
  {
   "cell_type": "code",
   "execution_count": null,
   "id": "heavy-airfare",
   "metadata": {},
   "outputs": [],
   "source": []
  }
 ],
 "metadata": {
  "kernelspec": {
   "display_name": "Python 3",
   "language": "python",
   "name": "python3"
  },
  "language_info": {
   "codemirror_mode": {
    "name": "ipython",
    "version": 3
   },
   "file_extension": ".py",
   "mimetype": "text/x-python",
   "name": "python",
   "nbconvert_exporter": "python",
   "pygments_lexer": "ipython3",
   "version": "3.6.8"
  }
 },
 "nbformat": 4,
 "nbformat_minor": 5
}
