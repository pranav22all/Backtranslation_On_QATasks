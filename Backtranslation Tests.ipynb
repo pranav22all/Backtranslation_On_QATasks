{
 "cells": [
  {
   "cell_type": "code",
   "execution_count": 1,
   "id": "intimate-neighborhood",
   "metadata": {},
   "outputs": [],
   "source": [
    "from translation_utils import backtranslate_dataset"
   ]
  },
  {
   "cell_type": "code",
   "execution_count": 2,
   "id": "careful-microphone",
   "metadata": {},
   "outputs": [],
   "source": [
    "def test_1():\n",
    "    context = [(\n",
    "        \"\\n\\nNew Orleans, Louisiana, 1927. An enraged \"\n",
    "        \"posse of men descend on the isolated Seven Doors Hotel \"\n",
    "        \"deep in the swamps. They grab an artist called Schweik \"\n",
    "        \"(Antoine Saint John), who is cloistered there. Accusing \"\n",
    "        \"him of being a warlock, Schweik is dragged down to the \"\n",
    "        \"cellar where he is savagely beaten with heavy chains, \"\n",
    "        \"tortured with quicklime acid, and crucified with his wrists \"\n",
    "        \"nailed to a cellar wall, despite his dire warnings of evil \"\n",
    "        \"to be unleashed.New Orleans, 1981. Liza Merril (Catriona \"\n",
    "        \"MacColl) is a young woman who arrives from New York City \"\n",
    "        \"to claim the hotel as her inheritance. No sooner has architect \"\n",
    "        \"friend Marin Avery (Michele Mirabella) begins to show her \"\n",
    "        \"around the property, strange incidents begin to happen. A \"\n",
    "        \"painter (Anthony Flees) falls off his rig and is horribly \"\n",
    "        \"injured, coughing up blood and babbling about, \\\"the eyes, \"\n",
    "        \"the eyes.\\\" Dr. John McCabe (David Warbeck) arrives to take \"\n",
    "        \"the injured man to the hospital, and offers Liza some \"\n",
    "        \"sympathy. Next, a plumber, named Joe, attempts to repair a \"\n",
    "        \"major leak in the flooded cellar. However, he is murdered by \"\n",
    "        \"a presence that emerged from behind a slim-caked wall. The \"\n",
    "        \"atmosphere at the hotel is further chilled by the creepy-looking \"\n",
    "        \"servants, Arthur (Giampaolo Saccarola) and Martha (Veronica Lazar), \"\n",
    "        \"who apparently come with the hotel. Martha discovers Joe's dead \"\n",
    "        \"body in the cellar, and another much older cadaver lying in a \"\n",
    "        \"pool of dirty water nearby. It is apparently that of Schweik, \"\n",
    "        \"the artist.Driving down the 14-mile causeway to New Orleans, \"\n",
    "        \"Liza encounters a strange blind woman, standing in the middle \"\n",
    "        \"of the desolate highway. The blind woman introduces herself as \"\n",
    "        \"Emily (Sarah Keller), and tells Liza that she has been waiting \"\n",
    "        \"for her, although her eyes are occluded with cataracts. Liza \"\n",
    "        \"drives Emily over to her opulently furnished house in New Orleans. \"\n",
    "        \"Liza is warned by Emily to leave the hotel while she still can. \"\n",
    "        \"Meanwhile at the hospital morgue, Dr. John McCabe is performing \"\n",
    "        \"the autopsy on Joe the plumber while his assistant Harris (Al Cliver) \"\n",
    "        \"wants to install an EMG machine to the corpse of Schweik. John \"\n",
    "        \"laughs it off and leaves for lunch, while Harris remains behind \"\n",
    "        \"to install the EMG machine. After Harris leaves for a call, the EMG \"\n",
    "        \"machine begins pulsing with activity. A little later, Joe's wife \"\n",
    "        \"Mary-Anne (Laura De Marchi) arrives with her daughter Jill (Maria \"\n",
    "        \"Pia Marsale) to dress up her husband's corpse for the funeral, when she \"\n",
    "        \"is killed in a horrific way by scalded with acid. Jill is then \"\n",
    "        \"menaced by the re-animated cadaver of Schweik.Liza meets with \"\n",
    "        \"John McCabe in a downtown bar to discuss her misgivings and \"\n",
    "        \"anxieties. He expresses puzzlement when Lisa complains about \"\n",
    "        \"he ineptitude of her weird servants. John claims to have never \"\n",
    "        \"heard of them before despite knowing everyone in the area. Then a \"\n",
    "        \"phone call from the bar arrives from Harris who informs John that \"\n",
    "        \"Mary-Anne's body was found in the morgue, while Jill was found \"\n",
    "        \"huddled in a corner frightened and unable to speak. After Joe and \"\n",
    "        \"Mary-Anne's funeral, Emily appears again to Liza that evening at \"\n",
    "        \"the hotel. Emily tells Liza about the warlock Schweik, who stayed \"\n",
    "        \"in Room 36 of the hotel and about the supernatural underworld that \"\n",
    "        \"the hotel conceals. The hotel was built over one of the Seven \"\n",
    "        \"Gates of Hell, and Schweik has been the Guardian. Emily is about \"\n",
    "        \"to reveal more when her hands wander over to a canvas depicting a \"\n",
    "        \"desolate vision of lost souls in a terrible and arid landscape. \"\n",
    "        \"Suddenly afraid, Emily says that the painting was painted by Schweik \"\n",
    "        \"before he died, and she runs out of the hotel parlor into the \"\n",
    "        \"night. But Liza notices a disquieting fact about her sudden departure: \"\n",
    "        \"Emily made no footfalls on the bare wooden boards as she ran, and \"\n",
    "        \"neither did her seeing-eye dog.The next day, Liza ventures nervously \"\n",
    "        \"into Room 36, a dingy phantasmal of sheet-covered furniture and shafts \"\n",
    "        \"of dusty light. She finds an ancient book, whose weirdly flesh-like \"\n",
    "        \"cover bears the single word\")]\n",
    "    questions = [\"What was Jill's mother's face burned by?\"]\n",
    "    answers = [{\"answer_start\": 2476, \"text\": \"acid\"}]\n",
    "    id = [\"adlskfjalksdfj\"]\n",
    "    dataset_dict = {\"question\": questions, \"context\": context, \"id\": id, \"answer\": answers}\n",
    "    \n",
    "    new = backtranslate_dataset(dataset_dict, [\"fr\"], 0.9, multiply_factor=1)\n",
    "    print(new[\"context\"][0])\n",
    "    print(new[\"question\"][0])\n",
    "    print(new[\"answer\"][0])\n",
    "    print(\"____________\")\n",
    "    print(new[\"context\"][1])\n",
    "    print(new[\"question\"][1])\n",
    "    print(new[\"answer\"][1])\n",
    "    print(\"____________\")\n",
    "    print(\"Sanity checking answers\")\n",
    "    answer_start = new[\"answer\"][1][\"answer_start\"]\n",
    "    answer_length = len(new[\"answer\"][1][\"text\"])\n",
    "    print(answer_start)\n",
    "    print(answer_length)\n",
    "    print(new[\"context\"][1][answer_start:answer_start+answer_length])\n",
    "    "
   ]
  },
  {
   "cell_type": "code",
   "execution_count": 3,
   "id": "quarterly-parent",
   "metadata": {},
   "outputs": [
    {
     "name": "stderr",
     "output_type": "stream",
     "text": [
      "[nltk_data] Downloading package punkt to /Users/nikhil/nltk_data...\n",
      "[nltk_data]   Package punkt is already up-to-date!\n"
     ]
    },
    {
     "name": "stdout",
     "output_type": "stream",
     "text": [
      "\n",
      "\n",
      "New Orleans, Louisiana, 1927. An enraged posse of men descend on the isolated Seven Doors Hotel deep in the swamps. They grab an artist called Schweik (Antoine Saint John), who is cloistered there. Accusing him of being a warlock, Schweik is dragged down to the cellar where he is savagely beaten with heavy chains, tortured with quicklime acid, and crucified with his wrists nailed to a cellar wall, despite his dire warnings of evil to be unleashed.New Orleans, 1981. Liza Merril (Catriona MacColl) is a young woman who arrives from New York City to claim the hotel as her inheritance. No sooner has architect friend Marin Avery (Michele Mirabella) begins to show her around the property, strange incidents begin to happen. A painter (Anthony Flees) falls off his rig and is horribly injured, coughing up blood and babbling about, \"the eyes, the eyes.\" Dr. John McCabe (David Warbeck) arrives to take the injured man to the hospital, and offers Liza some sympathy. Next, a plumber, named Joe, attempts to repair a major leak in the flooded cellar. However, he is murdered by a presence that emerged from behind a slim-caked wall. The atmosphere at the hotel is further chilled by the creepy-looking servants, Arthur (Giampaolo Saccarola) and Martha (Veronica Lazar), who apparently come with the hotel. Martha discovers Joe's dead body in the cellar, and another much older cadaver lying in a pool of dirty water nearby. It is apparently that of Schweik, the artist.Driving down the 14-mile causeway to New Orleans, Liza encounters a strange blind woman, standing in the middle of the desolate highway. The blind woman introduces herself as Emily (Sarah Keller), and tells Liza that she has been waiting for her, although her eyes are occluded with cataracts. Liza drives Emily over to her opulently furnished house in New Orleans. Liza is warned by Emily to leave the hotel while she still can. Meanwhile at the hospital morgue, Dr. John McCabe is performing the autopsy on Joe the plumber while his assistant Harris (Al Cliver) wants to install an EMG machine to the corpse of Schweik. John laughs it off and leaves for lunch, while Harris remains behind to install the EMG machine. After Harris leaves for a call, the EMG machine begins pulsing with activity. A little later, Joe's wife Mary-Anne (Laura De Marchi) arrives with her daughter Jill (Maria Pia Marsale) to dress up her husband's corpse for the funeral, when she is killed in a horrific way by scalded with acid. Jill is then menaced by the re-animated cadaver of Schweik.Liza meets with John McCabe in a downtown bar to discuss her misgivings and anxieties. He expresses puzzlement when Lisa complains about he ineptitude of her weird servants. John claims to have never heard of them before despite knowing everyone in the area. Then a phone call from the bar arrives from Harris who informs John that Mary-Anne's body was found in the morgue, while Jill was found huddled in a corner frightened and unable to speak. After Joe and Mary-Anne's funeral, Emily appears again to Liza that evening at the hotel. Emily tells Liza about the warlock Schweik, who stayed in Room 36 of the hotel and about the supernatural underworld that the hotel conceals. The hotel was built over one of the Seven Gates of Hell, and Schweik has been the Guardian. Emily is about to reveal more when her hands wander over to a canvas depicting a desolate vision of lost souls in a terrible and arid landscape. Suddenly afraid, Emily says that the painting was painted by Schweik before he died, and she runs out of the hotel parlor into the night. But Liza notices a disquieting fact about her sudden departure: Emily made no footfalls on the bare wooden boards as she ran, and neither did her seeing-eye dog.The next day, Liza ventures nervously into Room 36, a dingy phantasmal of sheet-covered furniture and shafts of dusty light. She finds an ancient book, whose weirdly flesh-like cover bears the single word\n",
      "What was Jill's mother's face burned by?\n",
      "{'answer_start': 2476, 'text': 'acid'}\n",
      "____________\n",
      "New Orleans, Louisiana, 1927. A group of enraged men descend upon the isolated Seven Doors Hotel at the bottom of the marshes. They catch an artist called Schweik (Antoine Saint John), who is cloistered there. Accusing him of being a sorcerer, Schweik is dragged into the cellar where he is savagely beaten with heavy chains, tortured with quicklime acid and crucified with his wrists nailed to a cellar wall, despite his terriblewarnings of the unleashing of evil, Orleans, 1981. Liza Merril (Catriona MacColl) is a young woman who arrives from New York to claim the hotel as her heirloom. Barely the architect friend Marin Avery (Michele Mirabella) begins to show him around the property, strange incidents begin to occur. A painter (Anthony Flees) falls off his platform and is horribly injured, coughing up blood and babbling \"eyes, eyes\". Dr John McCabe (David Warbeck) arrives to take the injured man to the hospital and offers Liza his sympathy. Next, a plumber, named Joe, tries to fix a major leak in the flooded basement. However, he is assassinated by a presence that has emerged from behind a thin wall. The hotel's atmosphere is further cooled by the creepy servants, Arthur (Giampaolo Saccarola) and Martha (Veronica Lazar), who apparently come with the hotel. Martha discovers Joe's corpse in the basement and another much older corpse lying in a nearby pool of dirty water. It is apparently that of Schweik, the artist.Walking down the 14 mile causeway to New Orleans, Liza meets a strange blind woman standing in the middle of the desolate road. The blind woman introduces herself as Emily (Sarah Keller) and tells Liza that she was waiting for her, although her eyes are blocked with cataracts. Liza drives Emily to her richly furnished house in New Orleans. Liza is warned by Emily to leave the hotel while she can. Meanwhile at the hospital morgue, Dr. John McCabe is performing the autopsy on Joe the plumber while his assistant Harris (Al Cliver) wants to install an EMG machine to the corpse of Schweik. John laughs and leaves for lunch, while Harris stays behind to set up the EMG machine. After Harris leaves for a call, the EMG machine begins pulsing with activity. A little later, Joe's wife, Mary-Anne (Laura De Marchi), arrives with her daughter Jill (Maria Pia Marsale) to dress her husband's corpse for the funeral, when she is killed in a wayhorrible by scalded with acid. Jill is then threatened by Schweik's resuscitated corpse. Liza meets John McCabe at a downtown bar to discuss her apprehensions and anxieties. He expresses bewilderment when Lisa complains about the ineptitude of her strange servants. John claims to have never heard of it before even though he knew everyone in the area. Then a phone call from the bar arrives from Harris who informs John that Mary-Anne's body has been found in the morgue, while Jill is found huddled in a corner frightened and unable to speak. After Joe and Mary-Anne's funeral, Emily appears to Liza again that evening at the hotel. Emily tells Liza about the warlock Schweik, who stayed in room 36 of the hotel, and the supernatural underworld the hotel hides. The hotel was built over one of the Seven Gates of Hell, and Schweik was the keeper. Emily is about to reveal more when her hands wander over a canvas depicting a desolate vision of souls lost in a terrible, barren landscape. Suddenly frightened, Emily says the picture was painted by Schweik before his death and that she is running out of the hotel lounge at night. But Liza notices a disturbing fact about her sudden departure: Emily didn't step on the bare wooden planks while she ran, nor did her guide dog.The next day, Liza nervously ventures intoroom 36, a drab fantasy of sheet-covered furniture and dusty skylights. She finds an old book, the oddly fleshy cover of which bears the only word\n",
      "What was Jill's mother's face burned by?\n",
      "{'answer_start': 2399, 'text': 'acid'}\n",
      "____________\n",
      "Sanity checking answers\n",
      "2399\n",
      "4\n",
      "acid\n"
     ]
    }
   ],
   "source": [
    "test_1()"
   ]
  },
  {
   "cell_type": "code",
   "execution_count": null,
   "id": "minute-walnut",
   "metadata": {},
   "outputs": [],
   "source": []
  }
 ],
 "metadata": {
  "kernelspec": {
   "display_name": "Python [conda env:robustqa] *",
   "language": "python",
   "name": "conda-env-robustqa-py"
  },
  "language_info": {
   "codemirror_mode": {
    "name": "ipython",
    "version": 3
   },
   "file_extension": ".py",
   "mimetype": "text/x-python",
   "name": "python",
   "nbconvert_exporter": "python",
   "pygments_lexer": "ipython3",
   "version": "3.6.8"
  }
 },
 "nbformat": 4,
 "nbformat_minor": 5
}
