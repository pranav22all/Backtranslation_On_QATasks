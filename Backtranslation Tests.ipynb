{
 "cells": [
  {
   "cell_type": "code",
   "execution_count": 1,
   "id": "scenic-transsexual",
   "metadata": {},
   "outputs": [],
   "source": [
    "from translation_utils import backtranslate_dataset\n",
    "import torch\n",
    "import fairseq"
   ]
  },
  {
   "cell_type": "code",
   "execution_count": 2,
   "id": "touched-tenant",
   "metadata": {},
   "outputs": [],
   "source": [
    "def test_1():\n",
    "    context = [(\n",
    "        \"\\n\\nNew Orleans, Louisiana, 1927. An enraged \"\n",
    "        \"posse of men descend on the isolated Seven Doors Hotel \"\n",
    "        \"deep in the swamps. They grab an artist called Schweik \"\n",
    "        \"(Antoine Saint John), who is cloistered there. Accusing \"\n",
    "        \"him of being a warlock, Schweik is dragged down to the \"\n",
    "        \"cellar where he is savagely beaten with heavy chains, \"\n",
    "        \"tortured with quicklime acid, and crucified with his wrists \"\n",
    "        \"nailed to a cellar wall, despite his dire warnings of evil \"\n",
    "        \"to be unleashed.New Orleans, 1981. Liza Merril (Catriona \"\n",
    "        \"MacColl) is a young woman who arrives from New York City \"\n",
    "        \"to claim the hotel as her inheritance. No sooner has architect \"\n",
    "        \"friend Marin Avery (Michele Mirabella) begins to show her \"\n",
    "        \"around the property, strange incidents begin to happen. A \"\n",
    "        \"painter (Anthony Flees) falls off his rig and is horribly \"\n",
    "        \"injured, coughing up blood and babbling about, \\\"the eyes, \"\n",
    "        \"the eyes.\\\" Dr. John McCabe (David Warbeck) arrives to take \"\n",
    "        \"the injured man to the hospital, and offers Liza some \"\n",
    "        \"sympathy. Next, a plumber, named Joe, attempts to repair a \"\n",
    "        \"major leak in the flooded cellar. However, he is murdered by \"\n",
    "        \"a presence that emerged from behind a slim-caked wall. The \"\n",
    "        \"atmosphere at the hotel is further chilled by the creepy-looking \"\n",
    "        \"servants, Arthur (Giampaolo Saccarola) and Martha (Veronica Lazar), \"\n",
    "        \"who apparently come with the hotel. Martha discovers Joe's dead \"\n",
    "        \"body in the cellar, and another much older cadaver lying in a \"\n",
    "        \"pool of dirty water nearby. It is apparently that of Schweik, \"\n",
    "        \"the artist.Driving down the 14-mile causeway to New Orleans, \"\n",
    "        \"Liza encounters a strange blind woman, standing in the middle \"\n",
    "        \"of the desolate highway. The blind woman introduces herself as \"\n",
    "        \"Emily (Sarah Keller), and tells Liza that she has been waiting \"\n",
    "        \"for her, although her eyes are occluded with cataracts. Liza \"\n",
    "        \"drives Emily over to her opulently furnished house in New Orleans. \"\n",
    "        \"Liza is warned by Emily to leave the hotel while she still can. \"\n",
    "        \"Meanwhile at the hospital morgue, Dr. John McCabe is performing \"\n",
    "        \"the autopsy on Joe the plumber while his assistant Harris (Al Cliver) \"\n",
    "        \"wants to install an EMG machine to the corpse of Schweik. John \"\n",
    "        \"laughs it off and leaves for lunch, while Harris remains behind \"\n",
    "        \"to install the EMG machine. After Harris leaves for a call, the EMG \"\n",
    "        \"machine begins pulsing with activity. A little later, Joe's wife \"\n",
    "        \"Mary-Anne (Laura De Marchi) arrives with her daughter Jill (Maria \"\n",
    "        \"Pia Marsale) to dress up her husband's corpse for the funeral, when she \"\n",
    "        \"is killed in a horrific way by scalded with acid. Jill is then \"\n",
    "        \"menaced by the re-animated cadaver of Schweik.Liza meets with \"\n",
    "        \"John McCabe in a downtown bar to discuss her misgivings and \"\n",
    "        \"anxieties. He expresses puzzlement when Lisa complains about \"\n",
    "        \"he ineptitude of her weird servants. John claims to have never \"\n",
    "        \"heard of them before despite knowing everyone in the area. Then a \"\n",
    "        \"phone call from the bar arrives from Harris who informs John that \"\n",
    "        \"Mary-Anne's body was found in the morgue, while Jill was found \"\n",
    "        \"huddled in a corner frightened and unable to speak. After Joe and \"\n",
    "        \"Mary-Anne's funeral, Emily appears again to Liza that evening at \"\n",
    "        \"the hotel. Emily tells Liza about the warlock Schweik, who stayed \"\n",
    "        \"in Room 36 of the hotel and about the supernatural underworld that \"\n",
    "        \"the hotel conceals. The hotel was built over one of the Seven \"\n",
    "        \"Gates of Hell, and Schweik has been the Guardian. Emily is about \"\n",
    "        \"to reveal more when her hands wander over to a canvas depicting a \"\n",
    "        \"desolate vision of lost souls in a terrible and arid landscape. \"\n",
    "        \"Suddenly afraid, Emily says that the painting was painted by Schweik \"\n",
    "        \"before he died, and she runs out of the hotel parlor into the \"\n",
    "        \"night. But Liza notices a disquieting fact about her sudden departure: \"\n",
    "        \"Emily made no footfalls on the bare wooden boards as she ran, and \"\n",
    "        \"neither did her seeing-eye dog.The next day, Liza ventures nervously \"\n",
    "        \"into Room 36, a dingy phantasmal of sheet-covered furniture and shafts \"\n",
    "        \"of dusty light. She finds an ancient book, whose weirdly flesh-like \"\n",
    "        \"cover bears the single word\")]\n",
    "    questions = [\"What was Jill's mother's face burned by?\"]\n",
    "    answers = [{\"answer_start\": 2476, \"text\": \"acid\"}]\n",
    "    id = [\"adlskfjalksdfj\"]\n",
    "    dataset_dict = {\"question\": questions, \"context\": context, \"id\": id, \"answer\": answers}\n",
    "    \n",
    "    new = backtranslate_dataset(dataset_dict, [\"fr\"], 0.9, multiply_factor=1)\n",
    "    print(new[\"context\"][0])\n",
    "    print(new[\"question\"][0])\n",
    "    print(new[\"answer\"][0])\n",
    "    print(\"____________\")\n",
    "    print(new[\"context\"][1])\n",
    "    print(new[\"question\"][1])\n",
    "    print(new[\"answer\"][1])\n",
    "    print(\"____________\")\n",
    "    print(\"Sanity checking answers\")\n",
    "    answer_start = new[\"answer\"][1][\"answer_start\"]\n",
    "    answer_length = len(new[\"answer\"][1][\"text\"])\n",
    "    print(answer_start)\n",
    "    print(answer_length)\n",
    "    print(new[\"context\"][1][answer_start:answer_start+answer_length])\n",
    "    "
   ]
  },
  {
   "cell_type": "code",
   "execution_count": 3,
   "id": "saved-auction",
   "metadata": {},
   "outputs": [
    {
     "name": "stderr",
     "output_type": "stream",
     "text": [
      "[nltk_data] Downloading package punkt to /Users/nikhil/nltk_data...\n",
      "[nltk_data]   Package punkt is already up-to-date!\n"
     ]
    },
    {
     "name": "stdout",
     "output_type": "stream",
     "text": [
      "11.759252786636353\n",
      "\n",
      "\n",
      "New Orleans, Louisiana, 1927. An enraged posse of men descend on the isolated Seven Doors Hotel deep in the swamps. They grab an artist called Schweik (Antoine Saint John), who is cloistered there. Accusing him of being a warlock, Schweik is dragged down to the cellar where he is savagely beaten with heavy chains, tortured with quicklime acid, and crucified with his wrists nailed to a cellar wall, despite his dire warnings of evil to be unleashed.New Orleans, 1981. Liza Merril (Catriona MacColl) is a young woman who arrives from New York City to claim the hotel as her inheritance. No sooner has architect friend Marin Avery (Michele Mirabella) begins to show her around the property, strange incidents begin to happen. A painter (Anthony Flees) falls off his rig and is horribly injured, coughing up blood and babbling about, \"the eyes, the eyes.\" Dr. John McCabe (David Warbeck) arrives to take the injured man to the hospital, and offers Liza some sympathy. Next, a plumber, named Joe, attempts to repair a major leak in the flooded cellar. However, he is murdered by a presence that emerged from behind a slim-caked wall. The atmosphere at the hotel is further chilled by the creepy-looking servants, Arthur (Giampaolo Saccarola) and Martha (Veronica Lazar), who apparently come with the hotel. Martha discovers Joe's dead body in the cellar, and another much older cadaver lying in a pool of dirty water nearby. It is apparently that of Schweik, the artist.Driving down the 14-mile causeway to New Orleans, Liza encounters a strange blind woman, standing in the middle of the desolate highway. The blind woman introduces herself as Emily (Sarah Keller), and tells Liza that she has been waiting for her, although her eyes are occluded with cataracts. Liza drives Emily over to her opulently furnished house in New Orleans. Liza is warned by Emily to leave the hotel while she still can. Meanwhile at the hospital morgue, Dr. John McCabe is performing the autopsy on Joe the plumber while his assistant Harris (Al Cliver) wants to install an EMG machine to the corpse of Schweik. John laughs it off and leaves for lunch, while Harris remains behind to install the EMG machine. After Harris leaves for a call, the EMG machine begins pulsing with activity. A little later, Joe's wife Mary-Anne (Laura De Marchi) arrives with her daughter Jill (Maria Pia Marsale) to dress up her husband's corpse for the funeral, when she is killed in a horrific way by scalded with acid. Jill is then menaced by the re-animated cadaver of Schweik.Liza meets with John McCabe in a downtown bar to discuss her misgivings and anxieties. He expresses puzzlement when Lisa complains about he ineptitude of her weird servants. John claims to have never heard of them before despite knowing everyone in the area. Then a phone call from the bar arrives from Harris who informs John that Mary-Anne's body was found in the morgue, while Jill was found huddled in a corner frightened and unable to speak. After Joe and Mary-Anne's funeral, Emily appears again to Liza that evening at the hotel. Emily tells Liza about the warlock Schweik, who stayed in Room 36 of the hotel and about the supernatural underworld that the hotel conceals. The hotel was built over one of the Seven Gates of Hell, and Schweik has been the Guardian. Emily is about to reveal more when her hands wander over to a canvas depicting a desolate vision of lost souls in a terrible and arid landscape. Suddenly afraid, Emily says that the painting was painted by Schweik before he died, and she runs out of the hotel parlor into the night. But Liza notices a disquieting fact about her sudden departure: Emily made no footfalls on the bare wooden boards as she ran, and neither did her seeing-eye dog.The next day, Liza ventures nervously into Room 36, a dingy phantasmal of sheet-covered furniture and shafts of dusty light. She finds an ancient book, whose weirdly flesh-like cover bears the single word\n",
      "What was Jill's mother's face burned by?\n",
      "{'answer_start': 2476, 'text': 'acid'}\n",
      "____________\n",
      "New Orleans, Louisiana, 1927. A group of enraged men descend upon the isolated Seven Doors Hotel at the bottom of the marshes. They catch an artist called Schweik (Antoine Saint John), who is cloistered there. Accusing him of being a sorcerer, Schweik is dragged into the cellar where he is savagely beaten with heavy chains, tortured with quicklime acid and crucified with his wrists nailed to a cellar wall, despite his terriblewarnings of the unleashing of evil, Orleans, 1981. Liza Merril (Catriona MacColl) is a young woman who arrives from New York to claim the hotel as her heirloom. Barely the architect friend Marin Avery (Michele Mirabella) begins to show him around the property, strange incidents begin to occur. A painter (Anthony Flees) falls off his platform and is horribly injured, coughing up blood and babbling \"eyes, eyes\". Dr John McCabe (David Warbeck) arrives to take the injured man to the hospital and offers Liza his sympathy. Next, a plumber, named Joe, tries to fix a major leak in the flooded basement. However, he is assassinated by a presence that has emerged from behind a thin wall. The hotel's atmosphere is further cooled by the creepy servants, Arthur (Giampaolo Saccarola) and Martha (Veronica Lazar), who apparently come with the hotel. Martha discovers Joe's corpse in the basement and another much older corpse lying in a nearby pool of dirty water. It is apparently that of Schweik, the artist.Walking down the 14 mile causeway to New Orleans, Liza meets a strange blind woman standing in the middle of the desolate road. The blind woman introduces herself as Emily (Sarah Keller) and tells Liza that she was waiting for her, although her eyes are blocked with cataracts. Liza drives Emily to her richly furnished house in New Orleans. Liza is warned by Emily to leave the hotel while she can. Meanwhile in the hospital morgue, Dr. John McCabe performs the autopsy of Joe the Plumber while his assistant Harris (Al Cliver) wants to install an EMG machine on Schweik's corpse. John laughs and leaves for lunch, while Harris stays behind to set up the EMG machine. After Harris leaves on a call, the EMG machine begins to vibrate with activity. A little later, Joe's wife, Mary-Anne (Laura De Marchi), arrives with her daughter Jill (Maria Pia Marsale) to dress her husband's corpse for the funeral, when she is killed in a wayhorrible by scalded with acid. Jill is then threatened by Schweik's resuscitated corpse. Liza meets John McCabe at a downtown bar to discuss her apprehensions and anxieties. He expresses bewilderment when Lisa complains about the ineptitude of her strange servants. John claims to have never heard of it before even though he knew everyone in the area. Then a phone call from the bar arrives from Harris who informs John that Mary-Anne's body has been found in the morgue, while Jill is found huddled in a corner frightened and unable to speak. After Joe and Mary-Anne's funeral, Emily appears to Liza again that evening at the hotel. Emily tells Liza about the warlock Schweik, who stayed in room 36 of the hotel, and the supernatural underworld the hotel hides. The hotel was built over one of the Seven Gates of Hell, and Schweik was the keeper. Emily is about to reveal more when her hands wander over a canvas depicting a desolate vision of souls lost in a terrible, barren landscape. Suddenly afraid, Emily says that the painting was painted by Schweik before he died, and she runs out of the hotel parlor into the night. But Liza notices a disturbing fact about her sudden departure: Emily didn't step on the bare wooden planks while she ran, nor did her guide dog.The next day, Liza nervously ventures intoroom 36, a drab fantasy of sheet-covered furniture and dusty skylights. She finds an old book, the oddly fleshy cover of which bears the only word\n",
      "What was Jill's mother's face burned by?\n",
      "{'answer_start': 2391, 'text': 'acid'}\n",
      "____________\n",
      "Sanity checking answers\n",
      "2391\n",
      "4\n",
      "acid\n"
     ]
    }
   ],
   "source": [
    "test_1()"
   ]
  },
  {
   "cell_type": "code",
   "execution_count": 2,
   "id": "geological-novelty",
   "metadata": {},
   "outputs": [
    {
     "name": "stderr",
     "output_type": "stream",
     "text": [
      "Downloading: \"https://github.com/pytorch/fairseq/archive/master.zip\" to /Users/nikhil/.cache/torch/hub/master.zip\n"
     ]
    },
    {
     "data": {
      "text/plain": [
       "['bart.base',\n",
       " 'bart.large',\n",
       " 'bart.large.cnn',\n",
       " 'bart.large.mnli',\n",
       " 'bart.large.xsum',\n",
       " 'bpe',\n",
       " 'camembert',\n",
       " 'camembert-base',\n",
       " 'camembert-base-ccnet',\n",
       " 'camembert-base-ccnet-4gb',\n",
       " 'camembert-base-oscar-4gb',\n",
       " 'camembert-base-wikipedia-4gb',\n",
       " 'camembert-large',\n",
       " 'camembert.v0',\n",
       " 'conv.stories',\n",
       " 'conv.stories.pretrained',\n",
       " 'conv.wmt14.en-de',\n",
       " 'conv.wmt14.en-fr',\n",
       " 'conv.wmt17.en-de',\n",
       " 'data.stories',\n",
       " 'dynamicconv.glu.wmt14.en-fr',\n",
       " 'dynamicconv.glu.wmt16.en-de',\n",
       " 'dynamicconv.glu.wmt17.en-de',\n",
       " 'dynamicconv.glu.wmt17.zh-en',\n",
       " 'dynamicconv.no_glu.iwslt14.de-en',\n",
       " 'dynamicconv.no_glu.wmt16.en-de',\n",
       " 'gottbert-base',\n",
       " 'lightconv.glu.wmt14.en-fr',\n",
       " 'lightconv.glu.wmt16.en-de',\n",
       " 'lightconv.glu.wmt17.en-de',\n",
       " 'lightconv.glu.wmt17.zh-en',\n",
       " 'lightconv.no_glu.iwslt14.de-en',\n",
       " 'lightconv.no_glu.wmt16.en-de',\n",
       " 'roberta.base',\n",
       " 'roberta.large',\n",
       " 'roberta.large.mnli',\n",
       " 'roberta.large.wsc',\n",
       " 'tokenizer',\n",
       " 'transformer.wmt14.en-fr',\n",
       " 'transformer.wmt16.en-de',\n",
       " 'transformer.wmt18.en-de',\n",
       " 'transformer.wmt19.de-en',\n",
       " 'transformer.wmt19.de-en.single_model',\n",
       " 'transformer.wmt19.en-de',\n",
       " 'transformer.wmt19.en-de.single_model',\n",
       " 'transformer.wmt19.en-ru',\n",
       " 'transformer.wmt19.en-ru.single_model',\n",
       " 'transformer.wmt19.ru-en',\n",
       " 'transformer.wmt19.ru-en.single_model',\n",
       " 'transformer.wmt20.en-iu.news',\n",
       " 'transformer.wmt20.en-iu.nh',\n",
       " 'transformer.wmt20.en-ta',\n",
       " 'transformer.wmt20.iu-en.news',\n",
       " 'transformer.wmt20.iu-en.nh',\n",
       " 'transformer.wmt20.ta-en',\n",
       " 'transformer_lm.gbw.adaptive_huge',\n",
       " 'transformer_lm.wiki103.adaptive',\n",
       " 'transformer_lm.wmt19.de',\n",
       " 'transformer_lm.wmt19.en',\n",
       " 'transformer_lm.wmt19.ru',\n",
       " 'transformer_lm.wmt20.en',\n",
       " 'transformer_lm.wmt20.iu.news',\n",
       " 'transformer_lm.wmt20.iu.nh',\n",
       " 'transformer_lm.wmt20.ta',\n",
       " 'xlmr.base',\n",
       " 'xlmr.large']"
      ]
     },
     "execution_count": 2,
     "metadata": {},
     "output_type": "execute_result"
    }
   ],
   "source": [
    "torch.hub.list('pytorch/fairseq', force_reload=True)"
   ]
  },
  {
   "cell_type": "code",
   "execution_count": 3,
   "id": "noble-definition",
   "metadata": {},
   "outputs": [
    {
     "name": "stderr",
     "output_type": "stream",
     "text": [
      "Downloading: \"https://github.com/pytorch/fairseq/archive/master.zip\" to /Users/nikhil/.cache/torch/hub/master.zip\n",
      " 64%|██████▎   | 1900263424/2988854245 [05:28<03:07, 5790751.99B/s] \n"
     ]
    },
    {
     "ename": "TypeError",
     "evalue": "expected str, bytes or os.PathLike object, not NoneType",
     "output_type": "error",
     "traceback": [
      "\u001b[0;31m---------------------------------------------------------------------------\u001b[0m",
      "\u001b[0;31mTypeError\u001b[0m                                 Traceback (most recent call last)",
      "\u001b[0;32m<ipython-input-3-6078cb341951>\u001b[0m in \u001b[0;36m<module>\u001b[0;34m\u001b[0m\n\u001b[1;32m      2\u001b[0m \u001b[0;31m#                        checkpoint_file='model1.pt:model2.pt:model3.pt:model4.pt',\u001b[0m\u001b[0;34m\u001b[0m\u001b[0;34m\u001b[0m\u001b[0;34m\u001b[0m\u001b[0m\n\u001b[1;32m      3\u001b[0m \u001b[0;31m#                        tokenizer='moses', bpe='fastbpe')\u001b[0m\u001b[0;34m\u001b[0m\u001b[0;34m\u001b[0m\u001b[0;34m\u001b[0m\u001b[0m\n\u001b[0;32m----> 4\u001b[0;31m \u001b[0men2de\u001b[0m \u001b[0;34m=\u001b[0m \u001b[0mtorch\u001b[0m\u001b[0;34m.\u001b[0m\u001b[0mhub\u001b[0m\u001b[0;34m.\u001b[0m\u001b[0mload\u001b[0m\u001b[0;34m(\u001b[0m\u001b[0;34m'pytorch/fairseq'\u001b[0m\u001b[0;34m,\u001b[0m \u001b[0;34m'transformer.wmt19.en-de.single_model'\u001b[0m\u001b[0;34m,\u001b[0m \u001b[0mforce_reload\u001b[0m\u001b[0;34m=\u001b[0m\u001b[0;32mTrue\u001b[0m\u001b[0;34m)\u001b[0m\u001b[0;34m\u001b[0m\u001b[0;34m\u001b[0m\u001b[0m\n\u001b[0m\u001b[1;32m      5\u001b[0m \u001b[0men2de\u001b[0m\u001b[0;34m.\u001b[0m\u001b[0meval\u001b[0m\u001b[0;34m(\u001b[0m\u001b[0;34m)\u001b[0m  \u001b[0;31m# disable dropout\u001b[0m\u001b[0;34m\u001b[0m\u001b[0;34m\u001b[0m\u001b[0m\n\u001b[1;32m      6\u001b[0m de2en = torch.hub.load('pytorch/fairseq', 'transformer.wmt19.de-en',\n",
      "\u001b[0;32m~/opt/miniconda3/envs/robustqa/lib/python3.6/site-packages/torch/hub.py\u001b[0m in \u001b[0;36mload\u001b[0;34m(repo_or_dir, model, *args, **kwargs)\u001b[0m\n\u001b[1;32m    368\u001b[0m         \u001b[0mrepo_or_dir\u001b[0m \u001b[0;34m=\u001b[0m \u001b[0m_get_cache_or_reload\u001b[0m\u001b[0;34m(\u001b[0m\u001b[0mrepo_or_dir\u001b[0m\u001b[0;34m,\u001b[0m \u001b[0mforce_reload\u001b[0m\u001b[0;34m,\u001b[0m \u001b[0mverbose\u001b[0m\u001b[0;34m)\u001b[0m\u001b[0;34m\u001b[0m\u001b[0;34m\u001b[0m\u001b[0m\n\u001b[1;32m    369\u001b[0m \u001b[0;34m\u001b[0m\u001b[0m\n\u001b[0;32m--> 370\u001b[0;31m     \u001b[0mmodel\u001b[0m \u001b[0;34m=\u001b[0m \u001b[0m_load_local\u001b[0m\u001b[0;34m(\u001b[0m\u001b[0mrepo_or_dir\u001b[0m\u001b[0;34m,\u001b[0m \u001b[0mmodel\u001b[0m\u001b[0;34m,\u001b[0m \u001b[0;34m*\u001b[0m\u001b[0margs\u001b[0m\u001b[0;34m,\u001b[0m \u001b[0;34m**\u001b[0m\u001b[0mkwargs\u001b[0m\u001b[0;34m)\u001b[0m\u001b[0;34m\u001b[0m\u001b[0;34m\u001b[0m\u001b[0m\n\u001b[0m\u001b[1;32m    371\u001b[0m     \u001b[0;32mreturn\u001b[0m \u001b[0mmodel\u001b[0m\u001b[0;34m\u001b[0m\u001b[0;34m\u001b[0m\u001b[0m\n\u001b[1;32m    372\u001b[0m \u001b[0;34m\u001b[0m\u001b[0m\n",
      "\u001b[0;32m~/opt/miniconda3/envs/robustqa/lib/python3.6/site-packages/torch/hub.py\u001b[0m in \u001b[0;36m_load_local\u001b[0;34m(hubconf_dir, model, *args, **kwargs)\u001b[0m\n\u001b[1;32m    397\u001b[0m \u001b[0;34m\u001b[0m\u001b[0m\n\u001b[1;32m    398\u001b[0m     \u001b[0mentry\u001b[0m \u001b[0;34m=\u001b[0m \u001b[0m_load_entry_from_hubconf\u001b[0m\u001b[0;34m(\u001b[0m\u001b[0mhub_module\u001b[0m\u001b[0;34m,\u001b[0m \u001b[0mmodel\u001b[0m\u001b[0;34m)\u001b[0m\u001b[0;34m\u001b[0m\u001b[0;34m\u001b[0m\u001b[0m\n\u001b[0;32m--> 399\u001b[0;31m     \u001b[0mmodel\u001b[0m \u001b[0;34m=\u001b[0m \u001b[0mentry\u001b[0m\u001b[0;34m(\u001b[0m\u001b[0;34m*\u001b[0m\u001b[0margs\u001b[0m\u001b[0;34m,\u001b[0m \u001b[0;34m**\u001b[0m\u001b[0mkwargs\u001b[0m\u001b[0;34m)\u001b[0m\u001b[0;34m\u001b[0m\u001b[0;34m\u001b[0m\u001b[0m\n\u001b[0m\u001b[1;32m    400\u001b[0m \u001b[0;34m\u001b[0m\u001b[0m\n\u001b[1;32m    401\u001b[0m     \u001b[0msys\u001b[0m\u001b[0;34m.\u001b[0m\u001b[0mpath\u001b[0m\u001b[0;34m.\u001b[0m\u001b[0mremove\u001b[0m\u001b[0;34m(\u001b[0m\u001b[0mhubconf_dir\u001b[0m\u001b[0;34m)\u001b[0m\u001b[0;34m\u001b[0m\u001b[0;34m\u001b[0m\u001b[0m\n",
      "\u001b[0;32m~/Documents/CS224N/robustqa/fairseq/fairseq/models/fairseq_model.py\u001b[0m in \u001b[0;36mfrom_pretrained\u001b[0;34m(cls, model_name_or_path, checkpoint_file, data_name_or_path, **kwargs)\u001b[0m\n\u001b[1;32m    260\u001b[0m             \u001b[0mdata_name_or_path\u001b[0m\u001b[0;34m,\u001b[0m\u001b[0;34m\u001b[0m\u001b[0;34m\u001b[0m\u001b[0m\n\u001b[1;32m    261\u001b[0m             \u001b[0marchive_map\u001b[0m\u001b[0;34m=\u001b[0m\u001b[0mcls\u001b[0m\u001b[0;34m.\u001b[0m\u001b[0mhub_models\u001b[0m\u001b[0;34m(\u001b[0m\u001b[0;34m)\u001b[0m\u001b[0;34m,\u001b[0m\u001b[0;34m\u001b[0m\u001b[0;34m\u001b[0m\u001b[0m\n\u001b[0;32m--> 262\u001b[0;31m             \u001b[0;34m**\u001b[0m\u001b[0mkwargs\u001b[0m\u001b[0;34m,\u001b[0m\u001b[0;34m\u001b[0m\u001b[0;34m\u001b[0m\u001b[0m\n\u001b[0m\u001b[1;32m    263\u001b[0m         )\n\u001b[1;32m    264\u001b[0m         \u001b[0mlogger\u001b[0m\u001b[0;34m.\u001b[0m\u001b[0minfo\u001b[0m\u001b[0;34m(\u001b[0m\u001b[0mx\u001b[0m\u001b[0;34m[\u001b[0m\u001b[0;34m\"args\"\u001b[0m\u001b[0;34m]\u001b[0m\u001b[0;34m)\u001b[0m\u001b[0;34m\u001b[0m\u001b[0;34m\u001b[0m\u001b[0m\n",
      "\u001b[0;32m~/Documents/CS224N/robustqa/fairseq/fairseq/hub_utils.py\u001b[0m in \u001b[0;36mfrom_pretrained\u001b[0;34m(model_name_or_path, checkpoint_file, data_name_or_path, archive_map, **kwargs)\u001b[0m\n\u001b[1;32m     54\u001b[0m     \u001b[0;31m# convenience hack for loading data and BPE codes from model archive\u001b[0m\u001b[0;34m\u001b[0m\u001b[0;34m\u001b[0m\u001b[0;34m\u001b[0m\u001b[0m\n\u001b[1;32m     55\u001b[0m     \u001b[0;32mif\u001b[0m \u001b[0mdata_name_or_path\u001b[0m\u001b[0;34m.\u001b[0m\u001b[0mstartswith\u001b[0m\u001b[0;34m(\u001b[0m\u001b[0;34m\".\"\u001b[0m\u001b[0;34m)\u001b[0m\u001b[0;34m:\u001b[0m\u001b[0;34m\u001b[0m\u001b[0;34m\u001b[0m\u001b[0m\n\u001b[0;32m---> 56\u001b[0;31m         \u001b[0mkwargs\u001b[0m\u001b[0;34m[\u001b[0m\u001b[0;34m\"data\"\u001b[0m\u001b[0;34m]\u001b[0m \u001b[0;34m=\u001b[0m \u001b[0mos\u001b[0m\u001b[0;34m.\u001b[0m\u001b[0mpath\u001b[0m\u001b[0;34m.\u001b[0m\u001b[0mabspath\u001b[0m\u001b[0;34m(\u001b[0m\u001b[0mos\u001b[0m\u001b[0;34m.\u001b[0m\u001b[0mpath\u001b[0m\u001b[0;34m.\u001b[0m\u001b[0mjoin\u001b[0m\u001b[0;34m(\u001b[0m\u001b[0mmodel_path\u001b[0m\u001b[0;34m,\u001b[0m \u001b[0mdata_name_or_path\u001b[0m\u001b[0;34m)\u001b[0m\u001b[0;34m)\u001b[0m\u001b[0;34m\u001b[0m\u001b[0;34m\u001b[0m\u001b[0m\n\u001b[0m\u001b[1;32m     57\u001b[0m     \u001b[0;32melse\u001b[0m\u001b[0;34m:\u001b[0m\u001b[0;34m\u001b[0m\u001b[0;34m\u001b[0m\u001b[0m\n\u001b[1;32m     58\u001b[0m         \u001b[0mkwargs\u001b[0m\u001b[0;34m[\u001b[0m\u001b[0;34m\"data\"\u001b[0m\u001b[0;34m]\u001b[0m \u001b[0;34m=\u001b[0m \u001b[0mfile_utils\u001b[0m\u001b[0;34m.\u001b[0m\u001b[0mload_archive_file\u001b[0m\u001b[0;34m(\u001b[0m\u001b[0mdata_name_or_path\u001b[0m\u001b[0;34m)\u001b[0m\u001b[0;34m\u001b[0m\u001b[0;34m\u001b[0m\u001b[0m\n",
      "\u001b[0;32m~/opt/miniconda3/envs/robustqa/lib/python3.6/posixpath.py\u001b[0m in \u001b[0;36mjoin\u001b[0;34m(a, *p)\u001b[0m\n\u001b[1;32m     78\u001b[0m     \u001b[0mwill\u001b[0m \u001b[0mbe\u001b[0m \u001b[0mdiscarded\u001b[0m\u001b[0;34m.\u001b[0m  \u001b[0mAn\u001b[0m \u001b[0mempty\u001b[0m \u001b[0mlast\u001b[0m \u001b[0mpart\u001b[0m \u001b[0mwill\u001b[0m \u001b[0mresult\u001b[0m \u001b[0;32min\u001b[0m \u001b[0ma\u001b[0m \u001b[0mpath\u001b[0m \u001b[0mthat\u001b[0m\u001b[0;34m\u001b[0m\u001b[0;34m\u001b[0m\u001b[0m\n\u001b[1;32m     79\u001b[0m     ends with a separator.\"\"\"\n\u001b[0;32m---> 80\u001b[0;31m     \u001b[0ma\u001b[0m \u001b[0;34m=\u001b[0m \u001b[0mos\u001b[0m\u001b[0;34m.\u001b[0m\u001b[0mfspath\u001b[0m\u001b[0;34m(\u001b[0m\u001b[0ma\u001b[0m\u001b[0;34m)\u001b[0m\u001b[0;34m\u001b[0m\u001b[0;34m\u001b[0m\u001b[0m\n\u001b[0m\u001b[1;32m     81\u001b[0m     \u001b[0msep\u001b[0m \u001b[0;34m=\u001b[0m \u001b[0m_get_sep\u001b[0m\u001b[0;34m(\u001b[0m\u001b[0ma\u001b[0m\u001b[0;34m)\u001b[0m\u001b[0;34m\u001b[0m\u001b[0;34m\u001b[0m\u001b[0m\n\u001b[1;32m     82\u001b[0m     \u001b[0mpath\u001b[0m \u001b[0;34m=\u001b[0m \u001b[0ma\u001b[0m\u001b[0;34m\u001b[0m\u001b[0;34m\u001b[0m\u001b[0m\n",
      "\u001b[0;31mTypeError\u001b[0m: expected str, bytes or os.PathLike object, not NoneType"
     ]
    }
   ],
   "source": [
    "# # en2de = torch.hub.load('pytorch/fairseq', 'transformer.wmt19.en-de',\n",
    "# #                        checkpoint_file='model1.pt:model2.pt:model3.pt:model4.pt',\n",
    "# #                        tokenizer='moses', bpe='fastbpe')\n",
    "# en2de = torch.hub.load('pytorch/fairseq', 'transformer.wmt19.en-de.single_model', force_reload=True)\n",
    "# en2de.eval()  # disable dropout\n",
    "# de2en = torch.hub.load('pytorch/fairseq', 'transformer.wmt19.de-en',\n",
    "#                        checkpoint_file='model1.pt:model2.pt:model3.pt:model4.pt',\n",
    "#                        tokenizer='moses', bpe='fastbpe')\n",
    "# de2en.eval()  # disable dropout"
   ]
  },
  {
   "cell_type": "code",
   "execution_count": 4,
   "id": "complete-service",
   "metadata": {},
   "outputs": [
    {
     "name": "stderr",
     "output_type": "stream",
     "text": [
      "Using cache found in /Users/nikhil/.cache/torch/hub/pytorch_fairseq_master\n",
      "  9%|▉         | 271635456/2988854245 [00:53<08:59, 5040422.71B/s]\n"
     ]
    },
    {
     "ename": "TypeError",
     "evalue": "expected str, bytes or os.PathLike object, not NoneType",
     "output_type": "error",
     "traceback": [
      "\u001b[0;31m---------------------------------------------------------------------------\u001b[0m",
      "\u001b[0;31mTypeError\u001b[0m                                 Traceback (most recent call last)",
      "\u001b[0;32m<ipython-input-4-6ab12ec5227a>\u001b[0m in \u001b[0;36m<module>\u001b[0;34m\u001b[0m\n\u001b[1;32m      1\u001b[0m \u001b[0;31m# Round-trip translations between English and German:\u001b[0m\u001b[0;34m\u001b[0m\u001b[0;34m\u001b[0m\u001b[0;34m\u001b[0m\u001b[0m\n\u001b[0;32m----> 2\u001b[0;31m \u001b[0men2de\u001b[0m \u001b[0;34m=\u001b[0m \u001b[0mtorch\u001b[0m\u001b[0;34m.\u001b[0m\u001b[0mhub\u001b[0m\u001b[0;34m.\u001b[0m\u001b[0mload\u001b[0m\u001b[0;34m(\u001b[0m\u001b[0;34m'pytorch/fairseq'\u001b[0m\u001b[0;34m,\u001b[0m \u001b[0;34m'transformer.wmt19.en-de.single_model'\u001b[0m\u001b[0;34m,\u001b[0m \u001b[0mtokenizer\u001b[0m\u001b[0;34m=\u001b[0m\u001b[0;34m'moses'\u001b[0m\u001b[0;34m,\u001b[0m \u001b[0mbpe\u001b[0m\u001b[0;34m=\u001b[0m\u001b[0;34m'fastbpe'\u001b[0m\u001b[0;34m)\u001b[0m\u001b[0;34m\u001b[0m\u001b[0;34m\u001b[0m\u001b[0m\n\u001b[0m\u001b[1;32m      3\u001b[0m \u001b[0mde2en\u001b[0m \u001b[0;34m=\u001b[0m \u001b[0mtorch\u001b[0m\u001b[0;34m.\u001b[0m\u001b[0mhub\u001b[0m\u001b[0;34m.\u001b[0m\u001b[0mload\u001b[0m\u001b[0;34m(\u001b[0m\u001b[0;34m'pytorch/fairseq'\u001b[0m\u001b[0;34m,\u001b[0m \u001b[0;34m'transformer.wmt19.de-en.single_model'\u001b[0m\u001b[0;34m,\u001b[0m \u001b[0mtokenizer\u001b[0m\u001b[0;34m=\u001b[0m\u001b[0;34m'moses'\u001b[0m\u001b[0;34m,\u001b[0m \u001b[0mbpe\u001b[0m\u001b[0;34m=\u001b[0m\u001b[0;34m'fastbpe'\u001b[0m\u001b[0;34m)\u001b[0m\u001b[0;34m\u001b[0m\u001b[0;34m\u001b[0m\u001b[0m\n\u001b[1;32m      4\u001b[0m \u001b[0;34m\u001b[0m\u001b[0m\n\u001b[1;32m      5\u001b[0m \u001b[0mparaphrase\u001b[0m \u001b[0;34m=\u001b[0m \u001b[0mde2en\u001b[0m\u001b[0;34m.\u001b[0m\u001b[0mtranslate\u001b[0m\u001b[0;34m(\u001b[0m\u001b[0men2de\u001b[0m\u001b[0;34m.\u001b[0m\u001b[0mtranslate\u001b[0m\u001b[0;34m(\u001b[0m\u001b[0;34m'PyTorch Hub is an awesome interface!'\u001b[0m\u001b[0;34m)\u001b[0m\u001b[0;34m)\u001b[0m\u001b[0;34m\u001b[0m\u001b[0;34m\u001b[0m\u001b[0m\n",
      "\u001b[0;32m~/opt/miniconda3/envs/robustqa/lib/python3.6/site-packages/torch/hub.py\u001b[0m in \u001b[0;36mload\u001b[0;34m(repo_or_dir, model, *args, **kwargs)\u001b[0m\n\u001b[1;32m    368\u001b[0m         \u001b[0mrepo_or_dir\u001b[0m \u001b[0;34m=\u001b[0m \u001b[0m_get_cache_or_reload\u001b[0m\u001b[0;34m(\u001b[0m\u001b[0mrepo_or_dir\u001b[0m\u001b[0;34m,\u001b[0m \u001b[0mforce_reload\u001b[0m\u001b[0;34m,\u001b[0m \u001b[0mverbose\u001b[0m\u001b[0;34m)\u001b[0m\u001b[0;34m\u001b[0m\u001b[0;34m\u001b[0m\u001b[0m\n\u001b[1;32m    369\u001b[0m \u001b[0;34m\u001b[0m\u001b[0m\n\u001b[0;32m--> 370\u001b[0;31m     \u001b[0mmodel\u001b[0m \u001b[0;34m=\u001b[0m \u001b[0m_load_local\u001b[0m\u001b[0;34m(\u001b[0m\u001b[0mrepo_or_dir\u001b[0m\u001b[0;34m,\u001b[0m \u001b[0mmodel\u001b[0m\u001b[0;34m,\u001b[0m \u001b[0;34m*\u001b[0m\u001b[0margs\u001b[0m\u001b[0;34m,\u001b[0m \u001b[0;34m**\u001b[0m\u001b[0mkwargs\u001b[0m\u001b[0;34m)\u001b[0m\u001b[0;34m\u001b[0m\u001b[0;34m\u001b[0m\u001b[0m\n\u001b[0m\u001b[1;32m    371\u001b[0m     \u001b[0;32mreturn\u001b[0m \u001b[0mmodel\u001b[0m\u001b[0;34m\u001b[0m\u001b[0;34m\u001b[0m\u001b[0m\n\u001b[1;32m    372\u001b[0m \u001b[0;34m\u001b[0m\u001b[0m\n",
      "\u001b[0;32m~/opt/miniconda3/envs/robustqa/lib/python3.6/site-packages/torch/hub.py\u001b[0m in \u001b[0;36m_load_local\u001b[0;34m(hubconf_dir, model, *args, **kwargs)\u001b[0m\n\u001b[1;32m    397\u001b[0m \u001b[0;34m\u001b[0m\u001b[0m\n\u001b[1;32m    398\u001b[0m     \u001b[0mentry\u001b[0m \u001b[0;34m=\u001b[0m \u001b[0m_load_entry_from_hubconf\u001b[0m\u001b[0;34m(\u001b[0m\u001b[0mhub_module\u001b[0m\u001b[0;34m,\u001b[0m \u001b[0mmodel\u001b[0m\u001b[0;34m)\u001b[0m\u001b[0;34m\u001b[0m\u001b[0;34m\u001b[0m\u001b[0m\n\u001b[0;32m--> 399\u001b[0;31m     \u001b[0mmodel\u001b[0m \u001b[0;34m=\u001b[0m \u001b[0mentry\u001b[0m\u001b[0;34m(\u001b[0m\u001b[0;34m*\u001b[0m\u001b[0margs\u001b[0m\u001b[0;34m,\u001b[0m \u001b[0;34m**\u001b[0m\u001b[0mkwargs\u001b[0m\u001b[0;34m)\u001b[0m\u001b[0;34m\u001b[0m\u001b[0;34m\u001b[0m\u001b[0m\n\u001b[0m\u001b[1;32m    400\u001b[0m \u001b[0;34m\u001b[0m\u001b[0m\n\u001b[1;32m    401\u001b[0m     \u001b[0msys\u001b[0m\u001b[0;34m.\u001b[0m\u001b[0mpath\u001b[0m\u001b[0;34m.\u001b[0m\u001b[0mremove\u001b[0m\u001b[0;34m(\u001b[0m\u001b[0mhubconf_dir\u001b[0m\u001b[0;34m)\u001b[0m\u001b[0;34m\u001b[0m\u001b[0;34m\u001b[0m\u001b[0m\n",
      "\u001b[0;32m~/Documents/CS224N/robustqa/fairseq/fairseq/models/fairseq_model.py\u001b[0m in \u001b[0;36mfrom_pretrained\u001b[0;34m(cls, model_name_or_path, checkpoint_file, data_name_or_path, **kwargs)\u001b[0m\n\u001b[1;32m    260\u001b[0m             \u001b[0mdata_name_or_path\u001b[0m\u001b[0;34m,\u001b[0m\u001b[0;34m\u001b[0m\u001b[0;34m\u001b[0m\u001b[0m\n\u001b[1;32m    261\u001b[0m             \u001b[0marchive_map\u001b[0m\u001b[0;34m=\u001b[0m\u001b[0mcls\u001b[0m\u001b[0;34m.\u001b[0m\u001b[0mhub_models\u001b[0m\u001b[0;34m(\u001b[0m\u001b[0;34m)\u001b[0m\u001b[0;34m,\u001b[0m\u001b[0;34m\u001b[0m\u001b[0;34m\u001b[0m\u001b[0m\n\u001b[0;32m--> 262\u001b[0;31m             \u001b[0;34m**\u001b[0m\u001b[0mkwargs\u001b[0m\u001b[0;34m,\u001b[0m\u001b[0;34m\u001b[0m\u001b[0;34m\u001b[0m\u001b[0m\n\u001b[0m\u001b[1;32m    263\u001b[0m         )\n\u001b[1;32m    264\u001b[0m         \u001b[0mlogger\u001b[0m\u001b[0;34m.\u001b[0m\u001b[0minfo\u001b[0m\u001b[0;34m(\u001b[0m\u001b[0mx\u001b[0m\u001b[0;34m[\u001b[0m\u001b[0;34m\"args\"\u001b[0m\u001b[0;34m]\u001b[0m\u001b[0;34m)\u001b[0m\u001b[0;34m\u001b[0m\u001b[0;34m\u001b[0m\u001b[0m\n",
      "\u001b[0;32m~/Documents/CS224N/robustqa/fairseq/fairseq/hub_utils.py\u001b[0m in \u001b[0;36mfrom_pretrained\u001b[0;34m(model_name_or_path, checkpoint_file, data_name_or_path, archive_map, **kwargs)\u001b[0m\n\u001b[1;32m     54\u001b[0m     \u001b[0;31m# convenience hack for loading data and BPE codes from model archive\u001b[0m\u001b[0;34m\u001b[0m\u001b[0;34m\u001b[0m\u001b[0;34m\u001b[0m\u001b[0m\n\u001b[1;32m     55\u001b[0m     \u001b[0;32mif\u001b[0m \u001b[0mdata_name_or_path\u001b[0m\u001b[0;34m.\u001b[0m\u001b[0mstartswith\u001b[0m\u001b[0;34m(\u001b[0m\u001b[0;34m\".\"\u001b[0m\u001b[0;34m)\u001b[0m\u001b[0;34m:\u001b[0m\u001b[0;34m\u001b[0m\u001b[0;34m\u001b[0m\u001b[0m\n\u001b[0;32m---> 56\u001b[0;31m         \u001b[0mkwargs\u001b[0m\u001b[0;34m[\u001b[0m\u001b[0;34m\"data\"\u001b[0m\u001b[0;34m]\u001b[0m \u001b[0;34m=\u001b[0m \u001b[0mos\u001b[0m\u001b[0;34m.\u001b[0m\u001b[0mpath\u001b[0m\u001b[0;34m.\u001b[0m\u001b[0mabspath\u001b[0m\u001b[0;34m(\u001b[0m\u001b[0mos\u001b[0m\u001b[0;34m.\u001b[0m\u001b[0mpath\u001b[0m\u001b[0;34m.\u001b[0m\u001b[0mjoin\u001b[0m\u001b[0;34m(\u001b[0m\u001b[0mmodel_path\u001b[0m\u001b[0;34m,\u001b[0m \u001b[0mdata_name_or_path\u001b[0m\u001b[0;34m)\u001b[0m\u001b[0;34m)\u001b[0m\u001b[0;34m\u001b[0m\u001b[0;34m\u001b[0m\u001b[0m\n\u001b[0m\u001b[1;32m     57\u001b[0m     \u001b[0;32melse\u001b[0m\u001b[0;34m:\u001b[0m\u001b[0;34m\u001b[0m\u001b[0;34m\u001b[0m\u001b[0m\n\u001b[1;32m     58\u001b[0m         \u001b[0mkwargs\u001b[0m\u001b[0;34m[\u001b[0m\u001b[0;34m\"data\"\u001b[0m\u001b[0;34m]\u001b[0m \u001b[0;34m=\u001b[0m \u001b[0mfile_utils\u001b[0m\u001b[0;34m.\u001b[0m\u001b[0mload_archive_file\u001b[0m\u001b[0;34m(\u001b[0m\u001b[0mdata_name_or_path\u001b[0m\u001b[0;34m)\u001b[0m\u001b[0;34m\u001b[0m\u001b[0;34m\u001b[0m\u001b[0m\n",
      "\u001b[0;32m~/opt/miniconda3/envs/robustqa/lib/python3.6/posixpath.py\u001b[0m in \u001b[0;36mjoin\u001b[0;34m(a, *p)\u001b[0m\n\u001b[1;32m     78\u001b[0m     \u001b[0mwill\u001b[0m \u001b[0mbe\u001b[0m \u001b[0mdiscarded\u001b[0m\u001b[0;34m.\u001b[0m  \u001b[0mAn\u001b[0m \u001b[0mempty\u001b[0m \u001b[0mlast\u001b[0m \u001b[0mpart\u001b[0m \u001b[0mwill\u001b[0m \u001b[0mresult\u001b[0m \u001b[0;32min\u001b[0m \u001b[0ma\u001b[0m \u001b[0mpath\u001b[0m \u001b[0mthat\u001b[0m\u001b[0;34m\u001b[0m\u001b[0;34m\u001b[0m\u001b[0m\n\u001b[1;32m     79\u001b[0m     ends with a separator.\"\"\"\n\u001b[0;32m---> 80\u001b[0;31m     \u001b[0ma\u001b[0m \u001b[0;34m=\u001b[0m \u001b[0mos\u001b[0m\u001b[0;34m.\u001b[0m\u001b[0mfspath\u001b[0m\u001b[0;34m(\u001b[0m\u001b[0ma\u001b[0m\u001b[0;34m)\u001b[0m\u001b[0;34m\u001b[0m\u001b[0;34m\u001b[0m\u001b[0m\n\u001b[0m\u001b[1;32m     81\u001b[0m     \u001b[0msep\u001b[0m \u001b[0;34m=\u001b[0m \u001b[0m_get_sep\u001b[0m\u001b[0;34m(\u001b[0m\u001b[0ma\u001b[0m\u001b[0;34m)\u001b[0m\u001b[0;34m\u001b[0m\u001b[0;34m\u001b[0m\u001b[0m\n\u001b[1;32m     82\u001b[0m     \u001b[0mpath\u001b[0m \u001b[0;34m=\u001b[0m \u001b[0ma\u001b[0m\u001b[0;34m\u001b[0m\u001b[0;34m\u001b[0m\u001b[0m\n",
      "\u001b[0;31mTypeError\u001b[0m: expected str, bytes or os.PathLike object, not NoneType"
     ]
    }
   ],
   "source": [
    "# Round-trip translations between English and German:\n",
    "en2de = torch.hub.load('pytorch/fairseq', 'transformer.wmt19.en-de.single_model', tokenizer='moses', bpe='fastbpe')\n",
    "de2en = torch.hub.load('pytorch/fairseq', 'transformer.wmt19.de-en.single_model', tokenizer='moses', bpe='fastbpe')\n",
    "\n",
    "paraphrase = de2en.translate(en2de.translate('PyTorch Hub is an awesome interface!'))\n",
    "assert paraphrase == 'PyTorch Hub is a fantastic interface!'\n",
    "\n",
    "# Compare the results with English-Russian round-trip translation:\n",
    "en2ru = torch.hub.load('pytorch/fairseq', 'transformer.wmt19.en-ru.single_model', tokenizer='moses', bpe='fastbpe')\n",
    "ru2en = torch.hub.load('pytorch/fairseq', 'transformer.wmt19.ru-en.single_model', tokenizer='moses', bpe='fastbpe')\n",
    "\n",
    "paraphrase = ru2en.translate(en2ru.translate('PyTorch Hub is an awesome interface!'))\n",
    "assert paraphrase == 'PyTorch is a great interface!'"
   ]
  },
  {
   "cell_type": "code",
   "execution_count": null,
   "id": "roman-coaching",
   "metadata": {},
   "outputs": [],
   "source": [
    "print(en2de.translate('Accusing him of being a warlock, Schweik is dragged down to the cellar where he is savagely beaten with heavy chains, tortured with quicklime acid, and crucified with his wrists nailed to a cellar wall, despite his dire warnings of evil to be unleashed.'))"
   ]
  },
  {
   "cell_type": "code",
   "execution_count": null,
   "id": "eleven-bottom",
   "metadata": {},
   "outputs": [],
   "source": [
    "#en2de.cuda()"
   ]
  }
 ],
 "metadata": {
  "kernelspec": {
   "display_name": "Python [conda env:robustqa] *",
   "language": "python",
   "name": "conda-env-robustqa-py"
  },
  "language_info": {
   "codemirror_mode": {
    "name": "ipython",
    "version": 3
   },
   "file_extension": ".py",
   "mimetype": "text/x-python",
   "name": "python",
   "nbconvert_exporter": "python",
   "pygments_lexer": "ipython3",
   "version": "3.6.8"
  }
 },
 "nbformat": 4,
 "nbformat_minor": 5
}
